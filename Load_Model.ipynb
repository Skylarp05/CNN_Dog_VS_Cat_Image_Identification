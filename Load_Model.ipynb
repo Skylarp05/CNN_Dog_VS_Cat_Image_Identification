{
 "cells": [
  {
   "cell_type": "code",
   "execution_count": 1,
   "id": "78da24fc",
   "metadata": {
    "_cell_guid": "b1076dfc-b9ad-4769-8c92-a6c4dae69d19",
    "_uuid": "8f2839f25d086af736a60e9eeb907d3b93b6e0e5",
    "execution": {
     "iopub.execute_input": "2023-12-03T20:09:28.643433Z",
     "iopub.status.busy": "2023-12-03T20:09:28.642619Z",
     "iopub.status.idle": "2023-12-03T20:09:29.466655Z",
     "shell.execute_reply": "2023-12-03T20:09:29.465570Z"
    },
    "papermill": {
     "duration": 0.831085,
     "end_time": "2023-12-03T20:09:29.468971",
     "exception": false,
     "start_time": "2023-12-03T20:09:28.637886",
     "status": "completed"
    },
    "tags": []
   },
   "outputs": [
    {
     "name": "stdout",
     "output_type": "stream",
     "text": [
      "/kaggle/input/resnet-finetuned/model_resnet.pkl\n",
      "/kaggle/input/dogs-vs-cats-redux-kernels-edition/sample_submission.csv\n",
      "/kaggle/input/dogs-vs-cats-redux-kernels-edition/train.zip\n",
      "/kaggle/input/dogs-vs-cats-redux-kernels-edition/test.zip\n"
     ]
    }
   ],
   "source": [
    "# This Python 3 environment comes with many helpful analytics libraries installed\n",
    "# It is defined by the kaggle/python Docker image: https://github.com/kaggle/docker-python\n",
    "# For example, here's several helpful packages to load\n",
    "\n",
    "import numpy as np # linear algebra\n",
    "import pandas as pd # data processing, CSV file I/O (e.g. pd.read_csv)\n",
    "\n",
    "# Input data files are available in the read-only \"../input/\" directory\n",
    "# For example, running this (by clicking run or pressing Shift+Enter) will list all files under the input directory\n",
    "\n",
    "import os\n",
    "for dirname, _, filenames in os.walk('/kaggle/input'):\n",
    "    for filename in filenames:\n",
    "        print(os.path.join(dirname, filename))\n",
    "\n",
    "# You can write up to 20GB to the current directory (/kaggle/working/) that gets preserved as output when you create a version using \"Save & Run All\" \n",
    "# You can also write temporary files to /kaggle/temp/, but they won't be saved outside of the current session"
   ]
  },
  {
   "cell_type": "code",
   "execution_count": 2,
   "id": "68cea1b1",
   "metadata": {
    "execution": {
     "iopub.execute_input": "2023-12-03T20:09:29.477249Z",
     "iopub.status.busy": "2023-12-03T20:09:29.476582Z",
     "iopub.status.idle": "2023-12-03T20:09:34.886482Z",
     "shell.execute_reply": "2023-12-03T20:09:34.885568Z"
    },
    "papermill": {
     "duration": 5.416366,
     "end_time": "2023-12-03T20:09:34.888914",
     "exception": false,
     "start_time": "2023-12-03T20:09:29.472548",
     "status": "completed"
    },
    "tags": []
   },
   "outputs": [
    {
     "data": {
      "text/html": [
       "<div>\n",
       "<style scoped>\n",
       "    .dataframe tbody tr th:only-of-type {\n",
       "        vertical-align: middle;\n",
       "    }\n",
       "\n",
       "    .dataframe tbody tr th {\n",
       "        vertical-align: top;\n",
       "    }\n",
       "\n",
       "    .dataframe thead th {\n",
       "        text-align: right;\n",
       "    }\n",
       "</style>\n",
       "<table border=\"1\" class=\"dataframe\">\n",
       "  <thead>\n",
       "    <tr style=\"text-align: right;\">\n",
       "      <th></th>\n",
       "      <th>filename</th>\n",
       "      <th>label</th>\n",
       "    </tr>\n",
       "  </thead>\n",
       "  <tbody>\n",
       "    <tr>\n",
       "      <th>0</th>\n",
       "      <td>8063.jpg</td>\n",
       "      <td>unknown</td>\n",
       "    </tr>\n",
       "    <tr>\n",
       "      <th>1</th>\n",
       "      <td>4335.jpg</td>\n",
       "      <td>unknown</td>\n",
       "    </tr>\n",
       "    <tr>\n",
       "      <th>2</th>\n",
       "      <td>8286.jpg</td>\n",
       "      <td>unknown</td>\n",
       "    </tr>\n",
       "    <tr>\n",
       "      <th>3</th>\n",
       "      <td>7896.jpg</td>\n",
       "      <td>unknown</td>\n",
       "    </tr>\n",
       "    <tr>\n",
       "      <th>4</th>\n",
       "      <td>55.jpg</td>\n",
       "      <td>unknown</td>\n",
       "    </tr>\n",
       "  </tbody>\n",
       "</table>\n",
       "</div>"
      ],
      "text/plain": [
       "   filename    label\n",
       "0  8063.jpg  unknown\n",
       "1  4335.jpg  unknown\n",
       "2  8286.jpg  unknown\n",
       "3  7896.jpg  unknown\n",
       "4    55.jpg  unknown"
      ]
     },
     "execution_count": 2,
     "metadata": {},
     "output_type": "execute_result"
    }
   ],
   "source": [
    "\n",
    "test_path = \"/kaggle/input/dogs-vs-cats-redux-kernels-edition/test.zip\"\n",
    "\n",
    "files = \"/kaggle/working/\"\n",
    "\n",
    "import zipfile\n",
    "    \n",
    "with zipfile.ZipFile(test_path, 'r') as zipp:\n",
    "    zipp.extractall(files)\n",
    "\n",
    "\n",
    "test_dir = \"/kaggle/working/test/\"\n",
    "\n",
    "filenames = os.listdir(test_dir)\n",
    "labels = [x.split(\".\")[0] for x in filenames]\n",
    "\n",
    "test_data = pd.DataFrame({\"filename\": filenames, \"label\": 'unknown'})\n",
    "\n",
    "test_data.head()"
   ]
  },
  {
   "cell_type": "code",
   "execution_count": 3,
   "id": "312d7c98",
   "metadata": {
    "execution": {
     "iopub.execute_input": "2023-12-03T20:09:34.896843Z",
     "iopub.status.busy": "2023-12-03T20:09:34.896542Z",
     "iopub.status.idle": "2023-12-03T20:11:04.110884Z",
     "shell.execute_reply": "2023-12-03T20:11:04.109971Z"
    },
    "papermill": {
     "duration": 89.221068,
     "end_time": "2023-12-03T20:11:04.113459",
     "exception": false,
     "start_time": "2023-12-03T20:09:34.892391",
     "status": "completed"
    },
    "tags": []
   },
   "outputs": [
    {
     "name": "stderr",
     "output_type": "stream",
     "text": [
      "/opt/conda/lib/python3.10/site-packages/scipy/__init__.py:146: UserWarning: A NumPy version >=1.16.5 and <1.23.0 is required for this version of SciPy (detected version 1.24.3\n",
      "  warnings.warn(f\"A NumPy version >={np_minversion} and <{np_maxversion}\"\n"
     ]
    }
   ],
   "source": [
    "import pickle\n",
    "\n",
    "\n",
    "file_path = '/kaggle/input/resnet-finetuned/model_resnet.pkl'\n",
    "\n",
    "# Open the file in binary read mode\n",
    "with open(file_path, 'rb') as file:\n",
    "    model_resnet = pickle.load(file)"
   ]
  },
  {
   "cell_type": "code",
   "execution_count": 4,
   "id": "7d923479",
   "metadata": {
    "execution": {
     "iopub.execute_input": "2023-12-03T20:11:04.122884Z",
     "iopub.status.busy": "2023-12-03T20:11:04.122543Z",
     "iopub.status.idle": "2023-12-03T20:11:04.270266Z",
     "shell.execute_reply": "2023-12-03T20:11:04.268984Z"
    },
    "papermill": {
     "duration": 0.155718,
     "end_time": "2023-12-03T20:11:04.273216",
     "exception": false,
     "start_time": "2023-12-03T20:11:04.117498",
     "status": "completed"
    },
    "tags": []
   },
   "outputs": [
    {
     "name": "stdout",
     "output_type": "stream",
     "text": [
      "Found 12500 validated image filenames.\n"
     ]
    }
   ],
   "source": [
    "from keras.preprocessing.image import ImageDataGenerator\n",
    "from keras.preprocessing.image import load_img\n",
    "from keras.preprocessing.image import img_to_array\n",
    "NUM_CLASSES = 2\n",
    "IMG_DIM = 224  \n",
    "BATCH_SIZE = 100\n",
    "CHANNEL_SIZE = 3\n",
    "\n",
    "datagenerator = ImageDataGenerator( rescale=1./255)\n",
    "                                    #rotation_range = 10,\n",
    "                                    #horizontal_flip = True,\n",
    "                                    #zoom_range = 0.2,\n",
    "                                    #fill_mode = 'reflect',\n",
    "                                    #width_shift_range = 0.1,\n",
    "                                    #height_shift_range = 0.1)\n",
    "\n",
    "test_datagenerator = datagenerator\n",
    "\n",
    "test_generator = test_datagenerator.flow_from_dataframe(\n",
    "    dataframe=test_data,\n",
    "    directory='../working/test/',  # Directory containing the image files\n",
    "    x_col='filename',   # Column with file names\n",
    "    #y_col='label',      # Column with class labels\n",
    "    class_mode=None,  # \n",
    "    batch_size=BATCH_SIZE,\n",
    "    target_size=(IMG_DIM, IMG_DIM),\n",
    "    shuffle=False\n",
    ")"
   ]
  },
  {
   "cell_type": "code",
   "execution_count": 5,
   "id": "5fe44744",
   "metadata": {
    "execution": {
     "iopub.execute_input": "2023-12-03T20:11:04.284470Z",
     "iopub.status.busy": "2023-12-03T20:11:04.283651Z",
     "iopub.status.idle": "2023-12-03T20:11:53.234292Z",
     "shell.execute_reply": "2023-12-03T20:11:53.233413Z"
    },
    "papermill": {
     "duration": 48.958819,
     "end_time": "2023-12-03T20:11:53.236874",
     "exception": false,
     "start_time": "2023-12-03T20:11:04.278055",
     "status": "completed"
    },
    "tags": []
   },
   "outputs": [
    {
     "name": "stdout",
     "output_type": "stream",
     "text": [
      "125/125 [==============================] - 48s 304ms/step\n"
     ]
    }
   ],
   "source": [
    "test_predict = model_resnet.predict(test_generator)"
   ]
  },
  {
   "cell_type": "code",
   "execution_count": 6,
   "id": "34f4b6a1",
   "metadata": {
    "execution": {
     "iopub.execute_input": "2023-12-03T20:11:53.265333Z",
     "iopub.status.busy": "2023-12-03T20:11:53.265038Z",
     "iopub.status.idle": "2023-12-03T20:11:53.270233Z",
     "shell.execute_reply": "2023-12-03T20:11:53.269321Z"
    },
    "papermill": {
     "duration": 0.02238,
     "end_time": "2023-12-03T20:11:53.273101",
     "exception": false,
     "start_time": "2023-12-03T20:11:53.250721",
     "status": "completed"
    },
    "tags": []
   },
   "outputs": [
    {
     "name": "stdout",
     "output_type": "stream",
     "text": [
      "[[1.0000000e+00 9.9429799e-16]\n",
      " [3.8847444e-27 1.0000000e+00]\n",
      " [4.2005628e-23 1.0000000e+00]\n",
      " [2.1546098e-13 1.0000000e+00]\n",
      " [1.0000000e+00 1.2536292e-32]]\n"
     ]
    }
   ],
   "source": [
    "print(test_predict[:5])"
   ]
  },
  {
   "cell_type": "code",
   "execution_count": 7,
   "id": "e1809156",
   "metadata": {
    "execution": {
     "iopub.execute_input": "2023-12-03T20:11:53.301717Z",
     "iopub.status.busy": "2023-12-03T20:11:53.301052Z",
     "iopub.status.idle": "2023-12-03T20:11:53.369784Z",
     "shell.execute_reply": "2023-12-03T20:11:53.368721Z"
    },
    "papermill": {
     "duration": 0.08456,
     "end_time": "2023-12-03T20:11:53.371870",
     "exception": false,
     "start_time": "2023-12-03T20:11:53.287310",
     "status": "completed"
    },
    "tags": []
   },
   "outputs": [
    {
     "name": "stdout",
     "output_type": "stream",
     "text": [
      "     Id         label\n",
      "0  8063  9.942980e-16\n",
      "1  4335  1.000000e+00\n",
      "2  8286  1.000000e+00\n",
      "3  7896  1.000000e+00\n",
      "4    55  1.253629e-32\n"
     ]
    }
   ],
   "source": [
    "y_test_pred = test_predict[:,1]\n",
    "test_data['label'] = y_test_pred\n",
    "submission_file = pd.DataFrame(columns=['Id', 'label'])\n",
    "submission_file['Id']= test_data['filename'].apply(lambda x: int(x.split('.')[0]))\n",
    "submission_file['label']= test_data['label']\n",
    "submission_file.to_csv('submission.csv', index=False)\n",
    "print(submission_file.head())"
   ]
  },
  {
   "cell_type": "code",
   "execution_count": null,
   "id": "6800ac44",
   "metadata": {
    "papermill": {
     "duration": 0.014298,
     "end_time": "2023-12-03T20:11:53.400453",
     "exception": false,
     "start_time": "2023-12-03T20:11:53.386155",
     "status": "completed"
    },
    "tags": []
   },
   "outputs": [],
   "source": []
  }
 ],
 "metadata": {
  "kaggle": {
   "accelerator": "nvidiaTeslaT4",
   "dataSources": [
    {
     "databundleVersionId": 38425,
     "sourceId": 5441,
     "sourceType": "competition"
    },
    {
     "datasetId": 4103137,
     "sourceId": 7115007,
     "sourceType": "datasetVersion"
    }
   ],
   "dockerImageVersionId": 30588,
   "isGpuEnabled": true,
   "isInternetEnabled": true,
   "language": "python",
   "sourceType": "notebook"
  },
  "kernelspec": {
   "display_name": "Python 3",
   "language": "python",
   "name": "python3"
  },
  "language_info": {
   "codemirror_mode": {
    "name": "ipython",
    "version": 3
   },
   "file_extension": ".py",
   "mimetype": "text/x-python",
   "name": "python",
   "nbconvert_exporter": "python",
   "pygments_lexer": "ipython3",
   "version": "3.10.12"
  },
  "papermill": {
   "default_parameters": {},
   "duration": 151.757262,
   "end_time": "2023-12-03T20:11:56.771589",
   "environment_variables": {},
   "exception": null,
   "input_path": "__notebook__.ipynb",
   "output_path": "__notebook__.ipynb",
   "parameters": {},
   "start_time": "2023-12-03T20:09:25.014327",
   "version": "2.4.0"
  }
 },
 "nbformat": 4,
 "nbformat_minor": 5
}
